{
 "cells": [
  {
   "cell_type": "markdown",
   "metadata": {},
   "source": [
    "# Build predictive model to assess feature importance"
   ]
  },
  {
   "cell_type": "markdown",
   "metadata": {},
   "source": [
    "This code will build a predictive model to assess feature importance. The label of the users is from step 2, result of clustering users. The features used in this model includes user demography from 'userinfo.csv' and third party health data from smartphones and smart watches. "
   ]
  },
  {
   "cell_type": "markdown",
   "metadata": {
    "toc": true
   },
   "source": [
    "<h1>Table of Contents<span class=\"tocSkip\"></span></h1>\n",
    "<div class=\"toc\"><ul class=\"toc-item\"><li><span><a href=\"#Build-predictive-model-to-assess-feature-importance\" data-toc-modified-id=\"Build-predictive-model-to-assess-feature-importance-1\"><span class=\"toc-item-num\">1&nbsp;&nbsp;</span>Build predictive model to assess feature importance</a></span><ul class=\"toc-item\"><li><span><a href=\"#Data-pre-processing\" data-toc-modified-id=\"Data-pre-processing-1.1\"><span class=\"toc-item-num\">1.1&nbsp;&nbsp;</span>Data pre-processing</a></span><ul class=\"toc-item\"><li><span><a href=\"#Load-third-party-health-data-and-extract-features\" data-toc-modified-id=\"Load-third-party-health-data-and-extract-features-1.1.1\"><span class=\"toc-item-num\">1.1.1&nbsp;&nbsp;</span>Load third party health data and extract features</a></span></li><li><span><a href=\"#Get-user-demography-data\" data-toc-modified-id=\"Get-user-demography-data-1.1.2\"><span class=\"toc-item-num\">1.1.2&nbsp;&nbsp;</span>Get user demography data</a></span></li><li><span><a href=\"#Prepare-data\" data-toc-modified-id=\"Prepare-data-1.1.3\"><span class=\"toc-item-num\">1.1.3&nbsp;&nbsp;</span>Prepare data</a></span></li></ul></li><li><span><a href=\"#Machine-Learning\" data-toc-modified-id=\"Machine-Learning-1.2\"><span class=\"toc-item-num\">1.2&nbsp;&nbsp;</span>Machine Learning</a></span><ul class=\"toc-item\"><li><span><a href=\"#Random-Forest\" data-toc-modified-id=\"Random-Forest-1.2.1\"><span class=\"toc-item-num\">1.2.1&nbsp;&nbsp;</span>Random Forest</a></span></li><li><span><a href=\"#naive_bayes\" data-toc-modified-id=\"naive_bayes-1.2.2\"><span class=\"toc-item-num\">1.2.2&nbsp;&nbsp;</span>naive_bayes</a></span></li><li><span><a href=\"#Logistic-regression\" data-toc-modified-id=\"Logistic-regression-1.2.3\"><span class=\"toc-item-num\">1.2.3&nbsp;&nbsp;</span>Logistic regression</a></span></li><li><span><a href=\"#XGBoost\" data-toc-modified-id=\"XGBoost-1.2.4\"><span class=\"toc-item-num\">1.2.4&nbsp;&nbsp;</span>XGBoost</a></span></li><li><span><a href=\"#SVM\" data-toc-modified-id=\"SVM-1.2.5\"><span class=\"toc-item-num\">1.2.5&nbsp;&nbsp;</span>SVM</a></span></li></ul></li></ul></li></ul></div>"
   ]
  },
  {
   "cell_type": "code",
   "execution_count": 1,
   "metadata": {},
   "outputs": [],
   "source": [
    "import pandas as pd\n",
    "import datetime\n",
    "import tsfresh.utilities.dataframe_functions\n",
    "from sklearn import preprocessing\n",
    "from tsfresh import select_features\n",
    "from tsfresh.feature_extraction import extract_features\n",
    "from tsfresh.feature_extraction import EfficientFCParameters\n",
    "from sklearn.utils import resample\n",
    "import numpy as np\n",
    "import matplotlib.pyplot as plt\n",
    "import matplotlib\n",
    "from sklearn.svm import SVC\n",
    "from sklearn.model_selection import train_test_split\n",
    "from sklearn.ensemble import RandomForestClassifier\n",
    "from sklearn.metrics import classification_report, confusion_matrix\n",
    "import seaborn\n",
    "from sqlalchemy import create_engine\n",
    "from sqlalchemy_utils import database_exists, create_database\n",
    "import psycopg2\n",
    "from sklearn.naive_bayes import GaussianNB\n",
    "from sklearn import metrics\n",
    "from sklearn.linear_model import LogisticRegression\n",
    "from sklearn.metrics import mean_squared_error\n",
    "import xgboost as xgb\n",
    "from xgboost.sklearn import XGBClassifier"
   ]
  },
  {
   "cell_type": "markdown",
   "metadata": {},
   "source": [
    "## Data pre-processing"
   ]
  },
  {
   "cell_type": "markdown",
   "metadata": {},
   "source": [
    "### Load third party health data and extract features"
   ]
  },
  {
   "cell_type": "code",
   "execution_count": 3,
   "metadata": {},
   "outputs": [],
   "source": [
    "#Access third party data stored as postgresql database in AWS\n",
    "#Since third party health data is more than 600M rows, it is stored in AWS.\n",
    "#I removed the information of the database for privacy reasons.\n",
    "dbname = ''\n",
    "username = '' # change this to your username\n",
    "engine = create_engine('postgres://%s@localhost/%s'%(username,dbname))\n",
    "# Connect to make queries using psycopg2\n",
    "con = None\n",
    "con = psycopg2.connect(database=\"\",\n",
    "    user=\"\",\n",
    "    password=\"\",\n",
    "    host=\"\",\n",
    "    port='')\n",
    "\n",
    "# query:\n",
    "sql_query = \"\"\"\n",
    "SELECT \"owner\", \"type\", \"startDate\",\"value\" FROM public.\"DataSample\"\n",
    "where \"startDate\" >'2019-08-01 00:00:00.000+00'\n",
    "AND \"startDate\" < '2019-09-20 00:00:00.000+00'\n",
    ";\n",
    "\"\"\"\n",
    "sql_result = pd.read_sql_query(sql_query,con).set_index('startDate')\n",
    "sql_result = sql_result.sort_index()"
   ]
  },
  {
   "cell_type": "code",
   "execution_count": 4,
   "metadata": {},
   "outputs": [],
   "source": [
    "#For security reason, I cannot show the details of the third party health data\n",
    "#The third-party health data is time series data. \n",
    "#So I also use tsfresh to extract features from the data\n",
    "third_party = extract_features(sql_result, column_id=\"owner\", column_value='value', column_kind='type', default_fc_parameters=MinimalFCParameters())"
   ]
  },
  {
   "cell_type": "markdown",
   "metadata": {},
   "source": [
    "### Get user demography data"
   ]
  },
  {
   "cell_type": "code",
   "execution_count": 7,
   "metadata": {},
   "outputs": [],
   "source": [
    "#Load user label result from step 2.\n",
    "user_label = pd.read_csv('user_label_PCA.csv',index_col = [0])"
   ]
  },
  {
   "cell_type": "code",
   "execution_count": 43,
   "metadata": {},
   "outputs": [
    {
     "data": {
      "text/html": [
       "<div>\n",
       "<style scoped>\n",
       "    .dataframe tbody tr th:only-of-type {\n",
       "        vertical-align: middle;\n",
       "    }\n",
       "\n",
       "    .dataframe tbody tr th {\n",
       "        vertical-align: top;\n",
       "    }\n",
       "\n",
       "    .dataframe thead th {\n",
       "        text-align: right;\n",
       "    }\n",
       "</style>\n",
       "<table border=\"1\" class=\"dataframe\">\n",
       "  <thead>\n",
       "    <tr style=\"text-align: right;\">\n",
       "      <th></th>\n",
       "      <th>id</th>\n",
       "      <th>role</th>\n",
       "      <th>mainTrack</th>\n",
       "      <th>biography</th>\n",
       "      <th>gender</th>\n",
       "      <th>dateOfBirth</th>\n",
       "      <th>bioHeight</th>\n",
       "      <th>bioWeight</th>\n",
       "      <th>location</th>\n",
       "      <th>provider</th>\n",
       "      <th>...</th>\n",
       "      <th>statFollowingCount</th>\n",
       "      <th>community</th>\n",
       "      <th>prefShareGoal</th>\n",
       "      <th>prefShareCommunityStats</th>\n",
       "      <th>prefShareCommunityActivity</th>\n",
       "      <th>prefShareSessionActivity</th>\n",
       "      <th>prefShareWorkoutActivity</th>\n",
       "      <th>prefNotificationCommunityLike</th>\n",
       "      <th>prefNotificationCommunityResponse</th>\n",
       "      <th>prefNotificationCommunityMutualResponse</th>\n",
       "    </tr>\n",
       "  </thead>\n",
       "  <tbody>\n",
       "    <tr>\n",
       "      <th>0</th>\n",
       "      <td>00000000-57f4-181e-b125-0c32bf5d1202</td>\n",
       "      <td>user</td>\n",
       "      <td>NaN</td>\n",
       "      <td>NaN</td>\n",
       "      <td>NaN</td>\n",
       "      <td>NaN</td>\n",
       "      <td>NaN</td>\n",
       "      <td>NaN</td>\n",
       "      <td>NaN</td>\n",
       "      <td>local</td>\n",
       "      <td>...</td>\n",
       "      <td>NaN</td>\n",
       "      <td>ongo</td>\n",
       "      <td>t</td>\n",
       "      <td>t</td>\n",
       "      <td>t</td>\n",
       "      <td>f</td>\n",
       "      <td>f</td>\n",
       "      <td>t</td>\n",
       "      <td>t</td>\n",
       "      <td>t</td>\n",
       "    </tr>\n",
       "    <tr>\n",
       "      <th>1</th>\n",
       "      <td>00000000-5858-6c36-569d-1f09932b560d</td>\n",
       "      <td>user</td>\n",
       "      <td>NaN</td>\n",
       "      <td>NaN</td>\n",
       "      <td>male</td>\n",
       "      <td>1987-01-01 08:00:00+00</td>\n",
       "      <td>NaN</td>\n",
       "      <td>63.503007</td>\n",
       "      <td>NaN</td>\n",
       "      <td>local</td>\n",
       "      <td>...</td>\n",
       "      <td>0.0</td>\n",
       "      <td>ongo</td>\n",
       "      <td>t</td>\n",
       "      <td>t</td>\n",
       "      <td>t</td>\n",
       "      <td>f</td>\n",
       "      <td>f</td>\n",
       "      <td>t</td>\n",
       "      <td>t</td>\n",
       "      <td>t</td>\n",
       "    </tr>\n",
       "    <tr>\n",
       "      <th>2</th>\n",
       "      <td>00000000-593a-e4b9-f150-88505f883858</td>\n",
       "      <td>user</td>\n",
       "      <td>00000000-584a-71f6-6bec-e05d49e87120</td>\n",
       "      <td>NaN</td>\n",
       "      <td>test</td>\n",
       "      <td>1988-01-01 08:00:00+00</td>\n",
       "      <td>NaN</td>\n",
       "      <td>NaN</td>\n",
       "      <td>NaN</td>\n",
       "      <td>local</td>\n",
       "      <td>...</td>\n",
       "      <td>0.0</td>\n",
       "      <td>ongo</td>\n",
       "      <td>t</td>\n",
       "      <td>t</td>\n",
       "      <td>t</td>\n",
       "      <td>f</td>\n",
       "      <td>f</td>\n",
       "      <td>t</td>\n",
       "      <td>t</td>\n",
       "      <td>t</td>\n",
       "    </tr>\n",
       "    <tr>\n",
       "      <th>3</th>\n",
       "      <td>00000000-57f4-3b69-b125-0c32bf5d1206</td>\n",
       "      <td>user</td>\n",
       "      <td>NaN</td>\n",
       "      <td>NaN</td>\n",
       "      <td>female</td>\n",
       "      <td>NaN</td>\n",
       "      <td>NaN</td>\n",
       "      <td>NaN</td>\n",
       "      <td>NaN</td>\n",
       "      <td>local</td>\n",
       "      <td>...</td>\n",
       "      <td>NaN</td>\n",
       "      <td>ongo</td>\n",
       "      <td>t</td>\n",
       "      <td>t</td>\n",
       "      <td>t</td>\n",
       "      <td>f</td>\n",
       "      <td>f</td>\n",
       "      <td>t</td>\n",
       "      <td>t</td>\n",
       "      <td>t</td>\n",
       "    </tr>\n",
       "    <tr>\n",
       "      <th>4</th>\n",
       "      <td>00000000-5875-7c2a-74b9-7f1caea30755</td>\n",
       "      <td>user</td>\n",
       "      <td>NaN</td>\n",
       "      <td>NaN</td>\n",
       "      <td>male</td>\n",
       "      <td>1995-10-21 07:00:00+00</td>\n",
       "      <td>NaN</td>\n",
       "      <td>122.470086</td>\n",
       "      <td>NaN</td>\n",
       "      <td>facebook</td>\n",
       "      <td>...</td>\n",
       "      <td>0.0</td>\n",
       "      <td>ongo</td>\n",
       "      <td>t</td>\n",
       "      <td>t</td>\n",
       "      <td>t</td>\n",
       "      <td>f</td>\n",
       "      <td>f</td>\n",
       "      <td>t</td>\n",
       "      <td>t</td>\n",
       "      <td>t</td>\n",
       "    </tr>\n",
       "  </tbody>\n",
       "</table>\n",
       "<p>5 rows × 22 columns</p>\n",
       "</div>"
      ],
      "text/plain": [
       "                                     id  role  \\\n",
       "0  00000000-57f4-181e-b125-0c32bf5d1202  user   \n",
       "1  00000000-5858-6c36-569d-1f09932b560d  user   \n",
       "2  00000000-593a-e4b9-f150-88505f883858  user   \n",
       "3  00000000-57f4-3b69-b125-0c32bf5d1206  user   \n",
       "4  00000000-5875-7c2a-74b9-7f1caea30755  user   \n",
       "\n",
       "                              mainTrack  biography  gender  \\\n",
       "0                                   NaN        NaN     NaN   \n",
       "1                                   NaN        NaN    male   \n",
       "2  00000000-584a-71f6-6bec-e05d49e87120        NaN    test   \n",
       "3                                   NaN        NaN  female   \n",
       "4                                   NaN        NaN    male   \n",
       "\n",
       "              dateOfBirth  bioHeight   bioWeight location  provider  ...  \\\n",
       "0                     NaN        NaN         NaN      NaN     local  ...   \n",
       "1  1987-01-01 08:00:00+00        NaN   63.503007      NaN     local  ...   \n",
       "2  1988-01-01 08:00:00+00        NaN         NaN      NaN     local  ...   \n",
       "3                     NaN        NaN         NaN      NaN     local  ...   \n",
       "4  1995-10-21 07:00:00+00        NaN  122.470086      NaN  facebook  ...   \n",
       "\n",
       "   statFollowingCount  community  prefShareGoal prefShareCommunityStats  \\\n",
       "0                 NaN       ongo              t                       t   \n",
       "1                 0.0       ongo              t                       t   \n",
       "2                 0.0       ongo              t                       t   \n",
       "3                 NaN       ongo              t                       t   \n",
       "4                 0.0       ongo              t                       t   \n",
       "\n",
       "  prefShareCommunityActivity prefShareSessionActivity  \\\n",
       "0                          t                        f   \n",
       "1                          t                        f   \n",
       "2                          t                        f   \n",
       "3                          t                        f   \n",
       "4                          t                        f   \n",
       "\n",
       "  prefShareWorkoutActivity prefNotificationCommunityLike  \\\n",
       "0                        f                             t   \n",
       "1                        f                             t   \n",
       "2                        f                             t   \n",
       "3                        f                             t   \n",
       "4                        f                             t   \n",
       "\n",
       "  prefNotificationCommunityResponse prefNotificationCommunityMutualResponse  \n",
       "0                                 t                                       t  \n",
       "1                                 t                                       t  \n",
       "2                                 t                                       t  \n",
       "3                                 t                                       t  \n",
       "4                                 t                                       t  \n",
       "\n",
       "[5 rows x 22 columns]"
      ]
     },
     "execution_count": 43,
     "metadata": {},
     "output_type": "execute_result"
    }
   ],
   "source": [
    "#Get user demography from 'userinfo.csv'\n",
    "userinfo = pd.read_csv('userinfo.csv')\n",
    "userinfo.rename(columns={'_id':'id'},inplace=True)\n",
    "userinfo.head()"
   ]
  },
  {
   "cell_type": "code",
   "execution_count": 47,
   "metadata": {},
   "outputs": [
    {
     "data": {
      "text/plain": [
       "array([nan, 'male', 'test', 'female', 'hi hi ', 'TestGender', 'hi', 'hey',\n",
       "       'testing', 'asdf', 'f', 'Unicorn', 'Male', 'Female', 'other',\n",
       "       'rad human ', '🙋🏻\\u200d♂️'], dtype=object)"
      ]
     },
     "execution_count": 47,
     "metadata": {},
     "output_type": "execute_result"
    }
   ],
   "source": [
    "#Get gender information.\n",
    "userinfo['gender'].unique()"
   ]
  },
  {
   "cell_type": "code",
   "execution_count": 48,
   "metadata": {},
   "outputs": [
    {
     "data": {
      "text/plain": [
       "gender\n",
       "female      246\n",
       "male        228\n",
       "unknown    7167\n",
       "Name: gender, dtype: int64"
      ]
     },
     "execution_count": 48,
     "metadata": {},
     "output_type": "execute_result"
    }
   ],
   "source": [
    "#The input of gender is variable. I have to clean the data for further analysis.\n",
    "userinfo['gender'] = userinfo['gender'].fillna('unknown')\n",
    "userinfo['gender'] = userinfo['gender'].replace('Female','female')\n",
    "userinfo['gender'] = userinfo['gender'].replace('Male','male')\n",
    "userinfo['gender'] = userinfo['gender'].replace('f','female')\n",
    "userinfo['gender'] = userinfo['gender'].replace('TestGender','unknown')\n",
    "userinfo['gender'] = userinfo['gender'].replace('Unicorn','unknown')\n",
    "userinfo['gender'] = userinfo['gender'].replace('asdf','unknown')\n",
    "userinfo['gender'] = userinfo['gender'].replace('hey','unknown')\n",
    "userinfo['gender'] = userinfo['gender'].replace('hi','unknown')\n",
    "userinfo['gender'] = userinfo['gender'].replace('hi hi ','unknown')\n",
    "userinfo['gender'] = userinfo['gender'].replace('other','unknown')\n",
    "userinfo['gender'] = userinfo['gender'].replace('rad human ','unknown')\n",
    "userinfo['gender'] = userinfo['gender'].replace('test','unknown')\n",
    "userinfo['gender'] = userinfo['gender'].replace('testing','unknown')\n",
    "userinfo['gender'] = userinfo['gender'].replace('🙋🏻‍♂️','unknown')\n",
    "userinfo['gender'].groupby(userinfo['gender']).count()"
   ]
  },
  {
   "cell_type": "code",
   "execution_count": 10,
   "metadata": {},
   "outputs": [],
   "source": [
    "#Get the age of users from date of birth.\n",
    "userinfo['dateOfBirth'] = pd.to_datetime(userinfo['dateOfBirth'])\n",
    "now = pd.Timestamp('now')\n",
    "def age(date):\n",
    "    return now.year - date.year\n",
    "userinfo['age'] = userinfo['dateOfBirth'].apply(age)"
   ]
  },
  {
   "cell_type": "markdown",
   "metadata": {},
   "source": [
    "### Prepare data"
   ]
  },
  {
   "cell_type": "code",
   "execution_count": 11,
   "metadata": {},
   "outputs": [],
   "source": [
    "# The total features for the model includes features from third party health data and demography\n",
    "demography = userinfo[['id','gender','provider','age']]\n",
    "total_feature = pd.merge(third_party,demography,on='id',how='left')"
   ]
  },
  {
   "cell_type": "code",
   "execution_count": 14,
   "metadata": {
    "scrolled": true
   },
   "outputs": [],
   "source": [
    "#Not all users have third party health data. \n",
    "#For this model, we only predict users with third party health data.\n",
    "labels = user_label[user_label['id'].isin(total_feature['id'])]\n",
    "total_feature = total_feature[total_feature['id'].isin(labels['id']) ]"
   ]
  },
  {
   "cell_type": "code",
   "execution_count": 17,
   "metadata": {},
   "outputs": [],
   "source": [
    "#Convert categorical variable into dummy/indicator variables for classification\n",
    "features = pd.get_dummies(total_feature)\n",
    "#Use impute function in tsfresh package to replace all NaNs and infs from the dataframe.\n",
    "feature_class = tsfresh.utilities.dataframe_functions.impute(features) \n",
    "# Create the Scaler object\n",
    "scaler = preprocessing.StandardScaler()\n",
    "# Fit data on the scaler object\n",
    "scaled_df = scaler.fit_transform(feature_class)\n",
    "names = feature_class.columns\n",
    "scaled_df = pd.DataFrame(scaled_df, columns=names)\n",
    "#Filter features using select_features function in tsfresh package.\n",
    "#Select_feature function checks the significance of all features of feature matrix X \n",
    "#and return a possibly reduced feature matrix only containing relevant features.\n",
    "features_filtered = select_features(scaled_df, label)"
   ]
  },
  {
   "cell_type": "code",
   "execution_count": 49,
   "metadata": {},
   "outputs": [
    {
     "data": {
      "text/plain": [
       "0    1107\n",
       "1     369\n",
       "Name: clusters, dtype: int64"
      ]
     },
     "execution_count": 49,
     "metadata": {},
     "output_type": "execute_result"
    }
   ],
   "source": [
    "#There are much more users in cluster 0 than cluster 1. It is an imbalanced data.\n",
    "label.value_counts()"
   ]
  },
  {
   "cell_type": "code",
   "execution_count": 30,
   "metadata": {},
   "outputs": [],
   "source": [
    "#Downsample the majority to have better performance in predicting models.\n",
    "#I tried several ratios for down sampling. This ratio performs the best.\n",
    "label = label1.reset_index()\n",
    "features_filtered = features_filtered.reset_index()\n",
    "df_t = pd.merge(features_filtered,label,on='id',how='outer')\n",
    "\n",
    "# separate minority and majority classes\n",
    "cluster0 = df_t[df_t['clusters']==0]\n",
    "cluster1 = df_t[df_t['clusters']==1]\n",
    "\n",
    "# Downsample majority\n",
    "cluster0_upsampled = resample(cluster0,\n",
    "                          replace=True, # sample with replacement\n",
    "                          n_samples=len(cluster1)*2, # match number in minority class\n",
    "                          random_state=27) # reproducible results\n",
    "\n",
    "# combine downsampled majority and minority\n",
    "df_new = pd.concat([cluster1, cluster0_upsampled])\n",
    "#Imbalance data - resample\n",
    "df_new['clusters'].value_counts()\n",
    "features_filtered = df_new.drop(['clusters'],axis =1)\n",
    "label = df_new[['id','clusters']]\n",
    "label = label.set_index(label.columns[0])\n",
    "features_filtered = features_filtered.set_index(features_filtered.columns[0])\n",
    "label = pd.Series(label['clusters'])"
   ]
  },
  {
   "cell_type": "markdown",
   "metadata": {},
   "source": [
    "## Machine Learning"
   ]
  },
  {
   "cell_type": "markdown",
   "metadata": {},
   "source": [
    "Among all the models I tried, Random Forest performs the best. So I use it to further assess feature importance. The reason that random forest performs the best is that I have an imbalanced data, and random forest is an ensemble of decision trees. Each decision tree overfit the imbalanced data in a different way, so through voting those differences are averaged out."
   ]
  },
  {
   "cell_type": "markdown",
   "metadata": {},
   "source": [
    "### Random Forest"
   ]
  },
  {
   "cell_type": "code",
   "execution_count": 31,
   "metadata": {},
   "outputs": [],
   "source": [
    "#Split the data to have 80% data for training and 20% data for testing\n",
    "X_train, X_test, y_train, y_test = train_test_split(features_filtered, label, test_size=.2)"
   ]
  },
  {
   "cell_type": "code",
   "execution_count": 33,
   "metadata": {},
   "outputs": [
    {
     "name": "stdout",
     "output_type": "stream",
     "text": [
      "Training accuracy: 99.91525423728814\n",
      "Test accuracy: 84.45945945945947\n"
     ]
    }
   ],
   "source": [
    "# Construct machine learning model using random forest\n",
    "#Create a random forest Classifier\n",
    "forest = RandomForestClassifier(n_estimators= 150, max_features='auto')\n",
    "#Train the model using the training sets\n",
    "forest.fit(X_train, y_train)\n",
    "print('Training accuracy:', np.mean(forest.predict(X_train) == y_train)*100)\n",
    "print('Test accuracy:', np.mean(forest.predict(X_test) == y_test)*100)"
   ]
  },
  {
   "cell_type": "code",
   "execution_count": 34,
   "metadata": {
    "scrolled": false
   },
   "outputs": [
    {
     "name": "stdout",
     "output_type": "stream",
     "text": [
      "[[218   4]\n",
      " [ 42  32]]\n",
      "              precision    recall  f1-score   support\n",
      "\n",
      "           0       0.84      0.98      0.90       222\n",
      "           1       0.89      0.43      0.58        74\n",
      "\n",
      "    accuracy                           0.84       296\n",
      "   macro avg       0.86      0.71      0.74       296\n",
      "weighted avg       0.85      0.84      0.82       296\n",
      "\n"
     ]
    }
   ],
   "source": [
    "#Measure confusion matrix and calculate precision, recall f1-score and support\n",
    "#Recall of cluster 1 is pretty low, since it is imbalanced data.\n",
    "print(confusion_matrix(y_test, forest.predict(X_test)))\n",
    "print(classification_report(y_test, forest.predict(X_test)))"
   ]
  },
  {
   "cell_type": "code",
   "execution_count": 35,
   "metadata": {},
   "outputs": [
    {
     "name": "stdout",
     "output_type": "stream",
     "text": [
      "[[218   4]\n",
      " [ 42  32]]\n"
     ]
    },
    {
     "data": {
      "image/png": "[encoded data removed]",
      "text/plain": [
       "<Figure size 432x288 with 2 Axes>"
      ]
     },
     "metadata": {
      "needs_background": "light"
     },
     "output_type": "display_data"
    }
   ],
   "source": [
    "# Visualise classical Confusion M0atrix\n",
    "CM = confusion_matrix(y_test, forest.predict(X_test))\n",
    "# Visualize it as a heatmap\n",
    "seaborn.heatmap(CM)\n",
    "plt.show()"
   ]
  },
  {
   "cell_type": "code",
   "execution_count": 38,
   "metadata": {},
   "outputs": [
    {
     "data": {
      "text/plain": [
       "Text(0.5, 1.0, 'Feature importance using Random Forest Model')"
      ]
     },
     "execution_count": 38,
     "metadata": {},
     "output_type": "execute_result"
    },
    {
     "data": {
      "image/png": "[encoded data removed]",
      "text/plain": [
       "<Figure size 720x576 with 1 Axes>"
      ]
     },
     "metadata": {
      "needs_background": "light"
     },
     "output_type": "display_data"
    }
   ],
   "source": [
    "#Calculate feature importance\n",
    "importance_vals = forest.feature_importances_\n",
    "coef = pd.Series(importance_vals, index = X_train.columns)\n",
    "imp_coef = coef.sort_values()\n",
    "matplotlib.rcParams['figure.figsize'] = (10.0, 8.0)\n",
    "matplotlib.rc('font', size=15)\n",
    "imp_coef.plot(kind = \"barh\")\n",
    "plt.title(\"Feature importance using Random Forest Model\")"
   ]
  },
  {
   "cell_type": "markdown",
   "metadata": {},
   "source": [
    "Now when a new user log in the app and the company get the third party health data of the users, company can send customized notifications according to the values of the important features to potential low-activity users to optimize their engagement."
   ]
  },
  {
   "cell_type": "markdown",
   "metadata": {},
   "source": [
    "### naive_bayes"
   ]
  },
  {
   "cell_type": "code",
   "execution_count": 53,
   "metadata": {},
   "outputs": [],
   "source": [
    "#Create a Gaussian Classifier\n",
    "gnb = GaussianNB()\n",
    "#Train the model using the training sets\n",
    "gnb.fit(X_train, y_train)\n",
    "#Predict the response for test dataset\n",
    "y_pred = gnb.predict(X_test)"
   ]
  },
  {
   "cell_type": "code",
   "execution_count": 54,
   "metadata": {},
   "outputs": [
    {
     "name": "stdout",
     "output_type": "stream",
     "text": [
      "[[ 85 141]\n",
      " [ 14  56]]\n",
      "              precision    recall  f1-score   support\n",
      "\n",
      "           0       0.86      0.38      0.52       226\n",
      "           1       0.28      0.80      0.42        70\n",
      "\n",
      "    accuracy                           0.48       296\n",
      "   macro avg       0.57      0.59      0.47       296\n",
      "weighted avg       0.72      0.48      0.50       296\n",
      "\n"
     ]
    }
   ],
   "source": [
    "#Import scikit-learn metrics module for accuracy calculation\n",
    "print(confusion_matrix(y_test, y_pred))\n",
    "print(classification_report(y_test, y_pred))"
   ]
  },
  {
   "cell_type": "markdown",
   "metadata": {},
   "source": [
    "### Logistic regression"
   ]
  },
  {
   "cell_type": "code",
   "execution_count": 56,
   "metadata": {},
   "outputs": [
    {
     "name": "stdout",
     "output_type": "stream",
     "text": [
      "Accuracy of logistic regression classifier on test set: 0.7736\n"
     ]
    }
   ],
   "source": [
    "#Create a logistic regression Classifier\n",
    "logreg = LogisticRegression()\n",
    "#Train the model using the training sets\n",
    "logreg.fit(X_train, y_train)\n",
    "#Predict the response for test dataset\n",
    "y_pred = logreg.predict(X_test)\n",
    "print('Accuracy of logistic regression classifier on test set: {:.4f}'.format(logreg.score(X_test, y_test)))"
   ]
  },
  {
   "cell_type": "code",
   "execution_count": 57,
   "metadata": {},
   "outputs": [
    {
     "name": "stdout",
     "output_type": "stream",
     "text": [
      "[[199  27]\n",
      " [ 40  30]]\n",
      "              precision    recall  f1-score   support\n",
      "\n",
      "           0       0.83      0.88      0.86       226\n",
      "           1       0.53      0.43      0.47        70\n",
      "\n",
      "    accuracy                           0.77       296\n",
      "   macro avg       0.68      0.65      0.66       296\n",
      "weighted avg       0.76      0.77      0.77       296\n",
      "\n"
     ]
    }
   ],
   "source": [
    "#Import scikit-learn metrics module for accuracy calculation\n",
    "print(confusion_matrix(y_test, y_pred))\n",
    "print(classification_report(y_test, y_pred))"
   ]
  },
  {
   "cell_type": "markdown",
   "metadata": {},
   "source": [
    "### XGBoost"
   ]
  },
  {
   "cell_type": "code",
   "execution_count": 64,
   "metadata": {},
   "outputs": [
    {
     "name": "stdout",
     "output_type": "stream",
     "text": [
      "[[209  17]\n",
      " [ 37  33]]\n",
      "              precision    recall  f1-score   support\n",
      "\n",
      "           0       0.85      0.92      0.89       226\n",
      "           1       0.66      0.47      0.55        70\n",
      "\n",
      "    accuracy                           0.82       296\n",
      "   macro avg       0.75      0.70      0.72       296\n",
      "weighted avg       0.80      0.82      0.81       296\n",
      "\n"
     ]
    }
   ],
   "source": [
    "#Create a XGBoost Classifier\n",
    "model = XGBClassifier()\n",
    "#Train the model using the training sets\n",
    "x = model.fit(X_train, y_train)\n",
    "# make predictions for test data\n",
    "y_pred = model.predict(X_test)\n",
    "#Import scikit-learn metrics module for accuracy calculation\n",
    "print(confusion_matrix(y_test, y_pred))\n",
    "print(classification_report(y_test, y_pred))"
   ]
  },
  {
   "cell_type": "markdown",
   "metadata": {},
   "source": [
    "### SVM"
   ]
  },
  {
   "cell_type": "code",
   "execution_count": 66,
   "metadata": {
    "scrolled": false
   },
   "outputs": [
    {
     "name": "stderr",
     "output_type": "stream",
     "text": [
      "/Users/zhenruzhou/anaconda3/envs/insight/lib/python3.7/site-packages/sklearn/svm/base.py:193: FutureWarning: The default value of gamma will change from 'auto' to 'scale' in version 0.22 to account better for unscaled features. Set gamma explicitly to 'auto' or 'scale' to avoid this warning.\n",
      "  \"avoid this warning.\", FutureWarning)\n"
     ]
    }
   ],
   "source": [
    "##Create a Gaussian Kernel Classifier\n",
    "svclassifier = SVC(kernel='rbf')\n",
    "#Train the model using the training sets\n",
    "svclassifier.fit(X_train, y_train)\n",
    "# make predictions for test data\n",
    "y_pred = svclassifier.predict(X_test)"
   ]
  },
  {
   "cell_type": "code",
   "execution_count": 67,
   "metadata": {},
   "outputs": [
    {
     "name": "stdout",
     "output_type": "stream",
     "text": [
      "[[218   8]\n",
      " [ 44  26]]\n",
      "              precision    recall  f1-score   support\n",
      "\n",
      "           0       0.83      0.96      0.89       226\n",
      "           1       0.76      0.37      0.50        70\n",
      "\n",
      "    accuracy                           0.82       296\n",
      "   macro avg       0.80      0.67      0.70       296\n",
      "weighted avg       0.82      0.82      0.80       296\n",
      "\n"
     ]
    }
   ],
   "source": [
    "from sklearn.metrics import classification_report, confusion_matrix\n",
    "print(confusion_matrix(y_test, y_pred))\n",
    "print(classification_report(y_test, y_pred))"
   ]
  }
 ],
 "metadata": {
  "kernelspec": {
   "display_name": "Python 3",
   "language": "python",
   "name": "python3"
  },
  "language_info": {
   "codemirror_mode": {
    "name": "ipython",
    "version": 3
   },
   "file_extension": ".py",
   "mimetype": "text/x-python",
   "name": "python",
   "nbconvert_exporter": "python",
   "pygments_lexer": "ipython3",
   "version": "3.7.4"
  },
  "toc": {
   "base_numbering": 1,
   "nav_menu": {},
   "number_sections": true,
   "sideBar": false,
   "skip_h1_title": false,
   "title_cell": "Table of Contents",
   "title_sidebar": "Contents",
   "toc_cell": true,
   "toc_position": {},
   "toc_section_display": true,
   "toc_window_display": false
  }
 },
 "nbformat": 4,
 "nbformat_minor": 2
}
